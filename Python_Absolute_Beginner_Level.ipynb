{
  "nbformat": 4,
  "nbformat_minor": 0,
  "metadata": {
    "colab": {
      "provenance": [],
      "authorship_tag": "ABX9TyM4U2ykQ5EQBXcFBHG5U9HP",
      "include_colab_link": true
    },
    "kernelspec": {
      "name": "python3",
      "display_name": "Python 3"
    },
    "language_info": {
      "name": "python"
    }
  },
  "cells": [
    {
      "cell_type": "markdown",
      "metadata": {
        "id": "view-in-github",
        "colab_type": "text"
      },
      "source": [
        "<a href=\"https://colab.research.google.com/github/Kranthikumarkadari/Amazon-E-Commerce-Sales-In-India-Dashboard-Analysis-Using-Tableau/blob/main/Python_Absolute_Beginner_Level.ipynb\" target=\"_parent\"><img src=\"https://colab.research.google.com/assets/colab-badge.svg\" alt=\"Open In Colab\"/></a>"
      ]
    },
    {
      "cell_type": "code",
      "execution_count": null,
      "metadata": {
        "id": "DGySbaznMTn3"
      },
      "outputs": [],
      "source": [
        "##LET'S START WITH INTEGERS AND FLOATS\n",
        "## INTEGERS ARE WHOLE NUMBERS\n",
        "##FLOAT NUMBERS ARE DECIMAL"
      ]
    },
    {
      "cell_type": "markdown",
      "source": [
        "## ***INTEGERS AND FLOATS***\n"
      ],
      "metadata": {
        "id": "GMkiuiLK-0P5"
      }
    },
    {
      "cell_type": "code",
      "source": [
        "##I would like to know what is the data type of the num and num_1\n",
        "num = 3\n",
        "num_1 = 3.5\n",
        "\n",
        "print(type(num))\n",
        "print(type(num_1))\n"
      ],
      "metadata": {
        "colab": {
          "base_uri": "https://localhost:8080/"
        },
        "id": "x-oUorFXxNSP",
        "outputId": "631d4484-c155-4324-cc3b-01b060c0f763"
      },
      "execution_count": null,
      "outputs": [
        {
          "output_type": "stream",
          "name": "stdout",
          "text": [
            "<class 'int'>\n",
            "<class 'float'>\n"
          ]
        }
      ]
    },
    {
      "cell_type": "markdown",
      "source": [
        "## ***### ARITHMETIC OPERATORS***\n",
        "1. Addition(+)\n",
        "2. Subtraction(-)\n",
        "3. Multiplication(*)\n",
        "4. Division(/)\n",
        "5. Floor Division(//)\n",
        "6. Exponent(**)\n",
        "7.Modulus(%)"
      ],
      "metadata": {
        "id": "leLxkVVayUw5"
      }
    },
    {
      "cell_type": "code",
      "source": [
        "## It's Time to learn ARITHMETIC OPERATIONS on Numerical\n",
        "num_2 = 3\n",
        "num_3 = 2\n",
        "\n",
        "##1. Addition\n",
        "print(num_2 + num_3)\n",
        "\n",
        "##2. Subtraction\n",
        "print(num_2 - num_3)\n",
        "\n",
        "##3. Multiplication\n",
        "print(num_2 * num_3)\n",
        "\n",
        "##4. Division\n",
        "print(num_2 / num_3)\n",
        "\n",
        "##5. Floor Division(drops decimal values)\n",
        "print(num_2 // num_3)\n",
        "\n",
        "##6. Exponent\n",
        "print(num_2 ** num_3)\n",
        "\n",
        "##7. Modulus Operator\n",
        "print(num_2 % num_3)\n"
      ],
      "metadata": {
        "colab": {
          "base_uri": "https://localhost:8080/"
        },
        "id": "WD6N4zQsxNVb",
        "outputId": "ac8b7927-0adf-47ee-c948-e28c4a071dad"
      },
      "execution_count": null,
      "outputs": [
        {
          "output_type": "stream",
          "name": "stdout",
          "text": [
            "5\n",
            "1\n",
            "6\n",
            "1.5\n",
            "1\n",
            "9\n",
            "1\n"
          ]
        }
      ]
    },
    {
      "cell_type": "markdown",
      "source": [
        "## ***ORDER OF ARITHMETIC OPERATIONS***"
      ],
      "metadata": {
        "id": "Fca9mhVj01X5"
      }
    },
    {
      "cell_type": "code",
      "source": [
        "##Below Operation: It multiplies first then adds\n",
        "print(3*2+1)\n",
        "\n",
        "##Below Operation: It adds first then mutiplies\n",
        "print(3*(2+1))"
      ],
      "metadata": {
        "colab": {
          "base_uri": "https://localhost:8080/"
        },
        "id": "SX_1V3k3xNYe",
        "outputId": "16c01ac8-751f-47e5-e011-f12e17e43ece"
      },
      "execution_count": null,
      "outputs": [
        {
          "output_type": "stream",
          "name": "stdout",
          "text": [
            "7\n",
            "9\n"
          ]
        }
      ]
    },
    {
      "cell_type": "markdown",
      "source": [
        "## ***COMPARISON OPERATORS***\n",
        "1. Equal(==)\n",
        "2. Not Equal(!=)\n",
        "3. Greater Than(>)\n",
        "4. Less Than(<)\n",
        "5. Greater Than or Equal(>=)\n",
        "6. Less Than or Equal(<=)"
      ],
      "metadata": {
        "id": "QLj-3LEJ1YXN"
      }
    },
    {
      "cell_type": "code",
      "source": [
        "## It's Time to learn COMPARISON OPERATIONS\n",
        "## these are gonna give us BOOLEAN VALUES(TRUE OR FALSE)\n",
        "num_4 = 4\n",
        "num_5 = 5\n",
        "\n",
        "##1. Equal\n",
        "print(num_4 == num_5)\n",
        "\n",
        "##2. Not Equal\n",
        "print(num_4 != num_5)\n",
        "\n",
        "##3. Greater Than\n",
        "print(num_4 > num_5)\n",
        "\n",
        "##4. Less Than\n",
        "print(num_4 < num_5)\n",
        "\n",
        "##5. Greater Than or Equal\n",
        "print(num_4 >= num_5)\n",
        "\n",
        "##6. Less Than or Equal\n",
        "print(num_4 <= num_5)\n"
      ],
      "metadata": {
        "colab": {
          "base_uri": "https://localhost:8080/"
        },
        "id": "kpvQLM7xxNbc",
        "outputId": "23b422fe-6cb7-411e-be01-6ab57605d067"
      },
      "execution_count": null,
      "outputs": [
        {
          "output_type": "stream",
          "name": "stdout",
          "text": [
            "False\n",
            "True\n",
            "False\n",
            "True\n",
            "False\n",
            "True\n"
          ]
        }
      ]
    },
    {
      "cell_type": "markdown",
      "source": [
        "## ***##INCREMENTING OPERATIONS***"
      ],
      "metadata": {
        "id": "ANC3c6YQ3szw"
      }
    },
    {
      "cell_type": "code",
      "source": [
        "## Incrementing values by using arithmetic operations\n",
        "num_6 = 5\n",
        "num_6 = num_6+10\n",
        "print(num_6)\n",
        "\n",
        "## This is another way to do it\n",
        "num_6 +=15\n",
        "print(num_6)\n"
      ],
      "metadata": {
        "colab": {
          "base_uri": "https://localhost:8080/"
        },
        "id": "BdFcb2YYxNfd",
        "outputId": "93804897-c066-4cd4-bff6-eca3f9e3da26"
      },
      "execution_count": null,
      "outputs": [
        {
          "output_type": "stream",
          "name": "stdout",
          "text": [
            "15\n",
            "30\n"
          ]
        }
      ]
    },
    {
      "cell_type": "code",
      "source": [
        "## Multiplication operator with incrementing\n",
        "num_7 = 20\n",
        "num_7 *= 2\n",
        "print(num_7)"
      ],
      "metadata": {
        "colab": {
          "base_uri": "https://localhost:8080/"
        },
        "id": "w-uPwfjVxNis",
        "outputId": "aba13e0e-c79c-481c-f5fe-706ecd354b40"
      },
      "execution_count": null,
      "outputs": [
        {
          "output_type": "stream",
          "name": "stdout",
          "text": [
            "40\n"
          ]
        }
      ]
    },
    {
      "cell_type": "markdown",
      "source": [
        "## ***BUILT-IN Functions***\n",
        "1. Absolute Function(abs) - Removes the  Negative Sign\n",
        "\n",
        "2. Round Function(round)\n",
        "* This will round our values to the nearest\n",
        "    integer value.\n",
        "* We can also pass second argument into our\n",
        "   round function that tells how many digits that we wanna round to."
      ],
      "metadata": {
        "id": "rdbuFNMt6-Xt"
      }
    },
    {
      "cell_type": "code",
      "source": [
        "## Absolute function\n",
        "num_8 =-3\n",
        "print(abs(num_8))"
      ],
      "metadata": {
        "colab": {
          "base_uri": "https://localhost:8080/"
        },
        "id": "sSyFMrfuxNlx",
        "outputId": "5f8971f5-9b62-45db-ec2b-e30be2a7c393"
      },
      "execution_count": null,
      "outputs": [
        {
          "output_type": "stream",
          "name": "stdout",
          "text": [
            "3\n"
          ]
        }
      ]
    },
    {
      "cell_type": "code",
      "source": [
        "## Round Function\n",
        "num_9 = 3.1456789\n",
        "print(round(num_9))"
      ],
      "metadata": {
        "colab": {
          "base_uri": "https://localhost:8080/"
        },
        "id": "e44gdeFw773R",
        "outputId": "903b4803-cf61-427e-964f-8f3e6eba547a"
      },
      "execution_count": null,
      "outputs": [
        {
          "output_type": "stream",
          "name": "stdout",
          "text": [
            "3\n"
          ]
        }
      ]
    },
    {
      "cell_type": "code",
      "source": [
        "## Round Function - it rounded up to two decimal values\n",
        "num_9 = 3.1456789\n",
        "print(round(num_9,2))"
      ],
      "metadata": {
        "colab": {
          "base_uri": "https://localhost:8080/"
        },
        "id": "WWPaiq8a8G0t",
        "outputId": "fd6f2432-712c-4a9c-aead-c1e3addac5cb"
      },
      "execution_count": null,
      "outputs": [
        {
          "output_type": "stream",
          "name": "stdout",
          "text": [
            "3.15\n"
          ]
        }
      ]
    },
    {
      "cell_type": "markdown",
      "source": [
        "## ***CASTING or TYPE CONVERSION - converting one data type into another data type***"
      ],
      "metadata": {
        "id": "TVgiaufS9RTG"
      }
    },
    {
      "cell_type": "code",
      "source": [
        "## Below assigned  100 and 200 values behaves like strings not Numerical values\n",
        "## So, it gave us result as 100200\n",
        "num_10 = '100'\n",
        "num_11 = '200'\n",
        "print(num_10 + num_11)\n"
      ],
      "metadata": {
        "colab": {
          "base_uri": "https://localhost:8080/"
        },
        "id": "Z5C7LCV-9XBi",
        "outputId": "c7d1f8f4-f5f1-492c-e318-b723de0dc0de"
      },
      "execution_count": null,
      "outputs": [
        {
          "output_type": "stream",
          "name": "stdout",
          "text": [
            "100200\n"
          ]
        }
      ]
    },
    {
      "cell_type": "code",
      "source": [
        "## Let's Cast the above data by using int data type\n",
        "## Now, it gave us result as 300\n",
        "num_10 = int(num_10)\n",
        "num_11 = int(num_11)\n",
        "\n",
        "print(num_10 + num_11)"
      ],
      "metadata": {
        "colab": {
          "base_uri": "https://localhost:8080/"
        },
        "id": "GFyguA8rK0mE",
        "outputId": "5f1a5ca9-d1cd-4546-854a-f96a53bcf5da"
      },
      "execution_count": null,
      "outputs": [
        {
          "output_type": "stream",
          "name": "stdout",
          "text": [
            "300\n"
          ]
        }
      ]
    },
    {
      "cell_type": "markdown",
      "source": [
        "# ***STRINGS - Working with Textual Data***"
      ],
      "metadata": {
        "id": "7EHCchHI-_S0"
      }
    },
    {
      "cell_type": "code",
      "source": [
        "## We can use single Quotes(' ') or Double Quotes(\" \") based on the text the variable consists of\n",
        "message = 'Hello World!'\n",
        "print(message)\n",
        "\n",
        "message = \"Hello World!\"\n",
        "print(message)"
      ],
      "metadata": {
        "id": "5rjVoiys_I-O",
        "colab": {
          "base_uri": "https://localhost:8080/"
        },
        "outputId": "8d6fba35-bf21-48ce-b76c-7ca445bfedf6"
      },
      "execution_count": null,
      "outputs": [
        {
          "output_type": "stream",
          "name": "stdout",
          "text": [
            "Hello World!\n"
          ]
        }
      ]
    },
    {
      "cell_type": "code",
      "source": [
        "## In this case: Python do not understand what to do ELSE it just gives us SYNTAX ERROR : INVALID SYNTAX\n",
        "message = 'Kranthi's World!'\n",
        "print(message)\n",
        "\n",
        "## We can resolve this issue either by double quotes or backward slash at the end of the first single quote\n",
        "message = 'Kranthi\\'s World!'\n",
        "print(message)"
      ],
      "metadata": {
        "id": "1s0_jPCe_JDz",
        "colab": {
          "base_uri": "https://localhost:8080/"
        },
        "outputId": "2773559a-dff2-49b8-980b-2ed92065fd52"
      },
      "execution_count": null,
      "outputs": [
        {
          "output_type": "stream",
          "name": "stdout",
          "text": [
            "Kranthi's World!\n"
          ]
        }
      ]
    },
    {
      "cell_type": "markdown",
      "source": [
        "***MULTI-LINE STRING*** - We use three quotes at the beginning and end of the string\n",
        "\n",
        "> Indented block\n",
        "\n"
      ],
      "metadata": {
        "id": "yh0Rg5uQI3nk"
      }
    },
    {
      "cell_type": "code",
      "source": [
        "message = \"\"\"Hello, Kranthi Kumar Kadari.\n",
        "Welcome To IT Industry! \"\"\"\n",
        "print(message)"
      ],
      "metadata": {
        "id": "fxeWHj7E_JG0",
        "colab": {
          "base_uri": "https://localhost:8080/"
        },
        "outputId": "521cb0ca-6451-44d5-fbce-8470fadcfa85"
      },
      "execution_count": null,
      "outputs": [
        {
          "output_type": "stream",
          "name": "stdout",
          "text": [
            "Hello, Kranthi Kumar Kadari.\n",
            "Welcome To IT Industry! \n"
          ]
        }
      ]
    },
    {
      "cell_type": "markdown",
      "source": [
        "***To Find How many Characters in STRING - We use LENGTH FUNCTION***"
      ],
      "metadata": {
        "id": "j7p8Y5UzJ09x"
      }
    },
    {
      "cell_type": "code",
      "source": [
        "message = 'Hello World'\n",
        "print(len(message))"
      ],
      "metadata": {
        "id": "FwfB6qR7_JKU",
        "colab": {
          "base_uri": "https://localhost:8080/"
        },
        "outputId": "30312125-855b-4696-e099-198f03170305"
      },
      "execution_count": null,
      "outputs": [
        {
          "output_type": "stream",
          "name": "stdout",
          "text": [
            "11\n"
          ]
        }
      ]
    },
    {
      "cell_type": "markdown",
      "source": [
        "***To Access Range of Characters***"
      ],
      "metadata": {
        "id": "DhZ8wzDGLls-"
      }
    },
    {
      "cell_type": "code",
      "source": [
        "## We use SQUARE BRACKETS([ ]) after string and pass in the index(location of the character) that we want to get\n",
        "## We can either use 0 to sepcify the beginning or just leave that 0 off bcoz python can understands\n",
        "## 0 means including Oth index But 5 means Excluding that index position\n",
        "\n",
        "message = 'Hello World'\n",
        "print(message[0:5])\n",
        "\n",
        "message = 'Hello World'\n",
        "print(message[:5])"
      ],
      "metadata": {
        "colab": {
          "base_uri": "https://localhost:8080/"
        },
        "id": "h_1KBhrUKp9s",
        "outputId": "9f6c3995-9751-4bd0-f353-abfd4794066b"
      },
      "execution_count": null,
      "outputs": [
        {
          "output_type": "stream",
          "name": "stdout",
          "text": [
            "Hello\n",
            "Hello\n"
          ]
        }
      ]
    },
    {
      "cell_type": "code",
      "source": [
        "## We can either use 11 or just leave that off\n",
        "message = 'Hello World'\n",
        "print(message[6:11])\n",
        "\n",
        "message = 'Hello World'\n",
        "print(message[6:])"
      ],
      "metadata": {
        "colab": {
          "base_uri": "https://localhost:8080/"
        },
        "id": "5zYAWcZnNezl",
        "outputId": "054ae35e-b12b-4ac7-e1ea-f77413482e0e"
      },
      "execution_count": null,
      "outputs": [
        {
          "output_type": "stream",
          "name": "stdout",
          "text": [
            "World\n",
            "World\n"
          ]
        }
      ]
    },
    {
      "cell_type": "markdown",
      "source": [
        "***To access Individual Characters***"
      ],
      "metadata": {
        "id": "WxqkOezGNQYM"
      }
    },
    {
      "cell_type": "code",
      "source": [
        "## To access first character in the string\n",
        "message = 'Hello World'\n",
        "print(message[0])"
      ],
      "metadata": {
        "colab": {
          "base_uri": "https://localhost:8080/"
        },
        "id": "6V0GTgsmLHWG",
        "outputId": "986233df-ab24-404d-a279-bd30ee5a11dd"
      },
      "execution_count": null,
      "outputs": [
        {
          "output_type": "stream",
          "name": "stdout",
          "text": [
            "H\n"
          ]
        }
      ]
    },
    {
      "cell_type": "code",
      "source": [
        "## To access last character in the string\n",
        "message = 'Hello World'\n",
        "print(message[10])"
      ],
      "metadata": {
        "colab": {
          "base_uri": "https://localhost:8080/"
        },
        "id": "goM3SFxFLVMi",
        "outputId": "563e16ed-e04a-4d57-8d9d-461db6e71b4b"
      },
      "execution_count": null,
      "outputs": [
        {
          "output_type": "stream",
          "name": "stdout",
          "text": [
            "d\n"
          ]
        }
      ]
    },
    {
      "cell_type": "code",
      "source": [
        "## When we try to  access the character which is not in the string it just gives string index out of Range\n",
        "message = 'Hello World'\n",
        "print(message[11])"
      ],
      "metadata": {
        "colab": {
          "base_uri": "https://localhost:8080/",
          "height": 197
        },
        "id": "klntP1-RLbtN",
        "outputId": "dfbecbcb-f390-4e2c-da2b-947541288072"
      },
      "execution_count": null,
      "outputs": [
        {
          "output_type": "error",
          "ename": "IndexError",
          "evalue": "ignored",
          "traceback": [
            "\u001b[0;31m---------------------------------------------------------------------------\u001b[0m",
            "\u001b[0;31mIndexError\u001b[0m                                Traceback (most recent call last)",
            "\u001b[0;32m<ipython-input-59-bcec749c30cb>\u001b[0m in \u001b[0;36m<cell line: 2>\u001b[0;34m()\u001b[0m\n\u001b[1;32m      1\u001b[0m \u001b[0mmessage\u001b[0m \u001b[0;34m=\u001b[0m \u001b[0;34m'Hello World'\u001b[0m\u001b[0;34m\u001b[0m\u001b[0;34m\u001b[0m\u001b[0m\n\u001b[0;32m----> 2\u001b[0;31m \u001b[0mprint\u001b[0m\u001b[0;34m(\u001b[0m\u001b[0mmessage\u001b[0m\u001b[0;34m[\u001b[0m\u001b[0;36m11\u001b[0m\u001b[0;34m]\u001b[0m\u001b[0;34m)\u001b[0m\u001b[0;34m\u001b[0m\u001b[0;34m\u001b[0m\u001b[0m\n\u001b[0m",
            "\u001b[0;31mIndexError\u001b[0m: string index out of range"
          ]
        }
      ]
    },
    {
      "cell_type": "markdown",
      "source": [
        "### ***STRING METHODS(mostly used)***\n",
        "1. Lower Method/function\n",
        "2. Upper Method/Function\n",
        "3. Count Method/Function\n",
        "4. Find Method/Function\n",
        "5. Replace Method/Function\n",
        "6. Cancatenate Method/Function"
      ],
      "metadata": {
        "id": "PRXiTnJ4OIau"
      }
    },
    {
      "cell_type": "code",
      "source": [
        "## 1. Lower Function\n",
        "message = 'Hello, Kranthi'\n",
        "print(message.lower())"
      ],
      "metadata": {
        "colab": {
          "base_uri": "https://localhost:8080/"
        },
        "id": "mB_e-A3AO-BY",
        "outputId": "52c76610-6a30-4c41-a134-18637ed11267"
      },
      "execution_count": null,
      "outputs": [
        {
          "output_type": "stream",
          "name": "stdout",
          "text": [
            "hello, kranthi\n"
          ]
        }
      ]
    },
    {
      "cell_type": "code",
      "source": [
        "## 2. Upper Function\n",
        "message = 'Hello, Kranthi'\n",
        "print(message.upper())"
      ],
      "metadata": {
        "colab": {
          "base_uri": "https://localhost:8080/"
        },
        "id": "Og4SoGeQPi1s",
        "outputId": "fab7d560-56f4-4441-8dff-9ffef10e95da"
      },
      "execution_count": null,
      "outputs": [
        {
          "output_type": "stream",
          "name": "stdout",
          "text": [
            "HELLO, KRANTHI\n"
          ]
        }
      ]
    },
    {
      "cell_type": "code",
      "source": [
        "## 3. Count Function - it gives count or frequency of characters or word.\n",
        "message = 'Hello, Kranthi'\n",
        "print(message.count('Hello'))\n",
        "\n",
        "print(message.count('l'))"
      ],
      "metadata": {
        "colab": {
          "base_uri": "https://localhost:8080/"
        },
        "id": "MrZnrUamPoSy",
        "outputId": "accab1c3-89ca-45bc-9d2b-ce0707da6d1d"
      },
      "execution_count": null,
      "outputs": [
        {
          "output_type": "stream",
          "name": "stdout",
          "text": [
            "1\n",
            "2\n"
          ]
        }
      ]
    },
    {
      "cell_type": "code",
      "source": [
        "## 4. Find Function - to find index of where certain characters can be found\n",
        "## If we pass the string or character that does not exist in our variable it gives us negative value(-1)\n",
        "message = 'Hello, Kranthi'\n",
        "\n",
        "print(message.find('e'))\n",
        "\n",
        "print(message.find('Kranthi'))\n",
        "\n",
        "\n",
        "print(message.find('Universe'))\n"
      ],
      "metadata": {
        "colab": {
          "base_uri": "https://localhost:8080/"
        },
        "id": "zACeaSUOPoft",
        "outputId": "8a579892-5a12-4801-8b22-311f12040271"
      },
      "execution_count": null,
      "outputs": [
        {
          "output_type": "stream",
          "name": "stdout",
          "text": [
            "1\n",
            "7\n",
            "-1\n"
          ]
        }
      ]
    },
    {
      "cell_type": "code",
      "source": [
        "## 5. Replace Function - to replace some characters in the string\n",
        "## We can use the same variable or we can also create a new variable\n",
        "message = 'Hello, Kranthi'\n",
        "message = message.replace('Kranthi','World')\n",
        "print(message)\n",
        "\n",
        "message = 'Hello, Kranthi'\n",
        "new_message = message.replace('Kranthi','World')\n",
        "print(new_message)"
      ],
      "metadata": {
        "colab": {
          "base_uri": "https://localhost:8080/"
        },
        "id": "3axY1ouQPoos",
        "outputId": "c43d6741-dd8a-444d-edf5-d4ab5d17a6e4"
      },
      "execution_count": null,
      "outputs": [
        {
          "output_type": "stream",
          "name": "stdout",
          "text": [
            "Hello, World\n",
            "Hello, World\n"
          ]
        }
      ]
    },
    {
      "cell_type": "code",
      "source": [
        "## CONACATENATE(+) = Adding two strings together\n",
        "## 1. By using +\n",
        "## 2. Formatted String(using place holders { })\n",
        "## 3. By using F - STRINGS(new function)\n",
        "\n",
        "greeting = 'Hello'\n",
        "name = 'Kranthi Kumar Kadari'\n",
        "message = greeting + ',' + name\n",
        "\n",
        "print(message)"
      ],
      "metadata": {
        "colab": {
          "base_uri": "https://localhost:8080/"
        },
        "id": "nFFe1d8zxNog",
        "outputId": "366dd41f-59d8-4755-8646-1de42a8f7a97"
      },
      "execution_count": null,
      "outputs": [
        {
          "output_type": "stream",
          "name": "stdout",
          "text": [
            "Hello,Kranthi Kumar Kadari\n"
          ]
        }
      ]
    },
    {
      "cell_type": "code",
      "source": [
        "## CONACATENATE(+)\n",
        "greeting = 'Hello'\n",
        "name = 'Kranthi Kumar Kadari'\n",
        "message = greeting + ',' + name + '. Welcome to this IT World!'\n",
        "\n",
        "print(message)"
      ],
      "metadata": {
        "id": "ko5wnBXaP03g",
        "colab": {
          "base_uri": "https://localhost:8080/"
        },
        "outputId": "e0d2b7cb-6eda-4d36-8c0d-58c6836a57ef"
      },
      "execution_count": null,
      "outputs": [
        {
          "output_type": "stream",
          "name": "stdout",
          "text": [
            "Hello,Kranthi Kumar Kadari. Welcome to this IT World!\n"
          ]
        }
      ]
    },
    {
      "cell_type": "code",
      "source": [
        "## CONACATENATE using place holders instead of variables(FORMATTED STRINGS)\n",
        "greeting = 'Hello'\n",
        "name = 'Kranthi Kumar Kadari'\n",
        "message = '{},{}. Welcome to IT Industry!'.format(greeting,name)\n",
        "\n",
        "print(message)"
      ],
      "metadata": {
        "id": "edbWri9Znuvl",
        "colab": {
          "base_uri": "https://localhost:8080/"
        },
        "outputId": "44c3a640-5ec5-4e6f-ca0e-84c7c1ec9b85"
      },
      "execution_count": null,
      "outputs": [
        {
          "output_type": "stream",
          "name": "stdout",
          "text": [
            "Hello,Kranthi Kumar Kadari. Welcome to IT Industry!\n"
          ]
        }
      ]
    },
    {
      "cell_type": "code",
      "source": [
        "## CONACATENATE using F-STRING ( passing variables into the Place Holders({ })\n",
        "## to make string formatting AS SIMPLE AS POSSIBLE\n",
        "greeting = 'Hello'\n",
        "name = 'Kranthi Kumar Kadari'\n",
        "message = f'{greeting},{name}. Welcome to IT Industry!'\n",
        "\n",
        "print(message)"
      ],
      "metadata": {
        "colab": {
          "base_uri": "https://localhost:8080/"
        },
        "id": "xbV7761cTRD6",
        "outputId": "8407abf4-c80d-4d81-fe96-d91211f6d760"
      },
      "execution_count": null,
      "outputs": [
        {
          "output_type": "stream",
          "name": "stdout",
          "text": [
            "Hello,Kranthi Kumar Kadari. Welcome to IT Industry!\n"
          ]
        }
      ]
    },
    {
      "cell_type": "code",
      "source": [
        "## We can also write CODE within the PLACE HOLDER\n",
        "greeting = 'Hello'\n",
        "name = 'Kranthi Kumar Kadari'\n",
        "message = f'{greeting},{name.upper()}. Welcome to IT Industry!'\n",
        "\n",
        "print(message)"
      ],
      "metadata": {
        "colab": {
          "base_uri": "https://localhost:8080/"
        },
        "id": "LT2GU-zBT9Qb",
        "outputId": "3a3285dd-eae7-4190-ad36-ac65ea3032d3"
      },
      "execution_count": null,
      "outputs": [
        {
          "output_type": "stream",
          "name": "stdout",
          "text": [
            "Hello,KRANTHI KUMAR KADARI. Welcome to IT Industry!\n"
          ]
        }
      ]
    },
    {
      "cell_type": "markdown",
      "source": [
        "# ***LISTS***- [ ]\n",
        "Lists are Mutable and allows us to work with list of values"
      ],
      "metadata": {
        "id": "FjiVdmZHaZMW"
      }
    },
    {
      "cell_type": "code",
      "source": [
        "## Creating an  Empty List\n",
        "empty_list = [ ]\n",
        "## or\n",
        "empty_list = list()"
      ],
      "metadata": {
        "id": "LHGpNahhUoU6"
      },
      "execution_count": null,
      "outputs": []
    },
    {
      "cell_type": "code",
      "source": [
        "courses = ['History','Maths','Physics','DataScience']\n",
        "print(courses)"
      ],
      "metadata": {
        "colab": {
          "base_uri": "https://localhost:8080/"
        },
        "id": "YuLrRLl4aXnG",
        "outputId": "7449654c-838b-4616-e20f-7aedfdf6591c"
      },
      "execution_count": null,
      "outputs": [
        {
          "output_type": "stream",
          "name": "stdout",
          "text": [
            "['History', 'Maths', 'Physics', 'DataScience']\n"
          ]
        }
      ]
    },
    {
      "cell_type": "code",
      "source": [
        "## To find out length of the list\n",
        "print(len(courses))"
      ],
      "metadata": {
        "colab": {
          "base_uri": "https://localhost:8080/"
        },
        "id": "qcQZjE9_kgvR",
        "outputId": "daa94f0c-21b2-42c1-e5b0-effd7c24af7c"
      },
      "execution_count": null,
      "outputs": [
        {
          "output_type": "stream",
          "name": "stdout",
          "text": [
            "4\n"
          ]
        }
      ]
    },
    {
      "cell_type": "code",
      "source": [
        "##To access list values\n",
        "\n",
        "## beginning value\n",
        "print(courses[0])\n",
        "\n",
        "## last value\n",
        "print(courses[-1])\n",
        "\n",
        "##range of values\n",
        "print(courses[0:2])\n",
        "print(courses[:2])\n",
        "\n",
        "print(courses[2:])"
      ],
      "metadata": {
        "colab": {
          "base_uri": "https://localhost:8080/"
        },
        "id": "m55oBSmpaXqD",
        "outputId": "3482c3e9-14e6-449a-becd-b42737717310"
      },
      "execution_count": null,
      "outputs": [
        {
          "output_type": "stream",
          "name": "stdout",
          "text": [
            "History\n",
            "DataScience\n",
            "['History', 'Maths']\n",
            "['History', 'Maths']\n",
            "['Physics', 'DataScience']\n"
          ]
        }
      ]
    },
    {
      "cell_type": "markdown",
      "source": [
        "### ***LIST METHODS/FUNCTIONS(Most Used):***\n",
        "1. Append\n",
        "2. Insert\n",
        "3. Extend\n",
        "4. Remove& pop\n",
        "5. sort(Ascending or descending order)\n",
        "6. Sorted Function\n",
        "6. Reverse\n",
        "7. Max-Min-Sum(Built-In Functions)\n",
        "8. Index Method\n",
        "9. In operator\n"
      ],
      "metadata": {
        "id": "SYZ10VoyuPGj"
      }
    },
    {
      "cell_type": "code",
      "source": [
        "## 1. APPEND- it adds the end either another list or value\n",
        "courses = ['History','Maths','Physics','DataScience']\n",
        "courses.append('Arts')\n",
        "print(courses)\n",
        "\n",
        "\n",
        "courses_1 = ['DataAnalyst','DataEngineer']\n",
        "courses.append(courses_1)\n",
        "print(courses)\n",
        "\n",
        "print(len(courses))\n",
        "\n",
        "print(courses[5])"
      ],
      "metadata": {
        "colab": {
          "base_uri": "https://localhost:8080/"
        },
        "id": "XF0w0TzoaXtX",
        "outputId": "fa4953b6-21b8-491d-c869-98d3e8cafab7"
      },
      "execution_count": null,
      "outputs": [
        {
          "output_type": "stream",
          "name": "stdout",
          "text": [
            "['History', 'Maths', 'Physics', 'DataScience', 'Arts']\n",
            "['History', 'Maths', 'Physics', 'DataScience', 'Arts', ['DataAnalyst', 'DataEngineer']]\n",
            "6\n",
            "['DataAnalyst', 'DataEngineer']\n"
          ]
        }
      ]
    },
    {
      "cell_type": "code",
      "source": [
        "## 2. INSERT - If we wanna to add a value or another list to SPECIFIC LOCATION into our list\n",
        "courses = ['History','Maths','Physics','DataScience']\n",
        "courses.insert(0,'Art')\n",
        "print(courses)\n",
        "\n",
        "## By using insert function: complete list will be added to the actual list\n",
        "courses_1 = ['DataAnalyst','DataEngineer']\n",
        "courses.insert(0,courses_1)\n",
        "print(courses)"
      ],
      "metadata": {
        "colab": {
          "base_uri": "https://localhost:8080/"
        },
        "id": "9zbLgcu9aXwz",
        "outputId": "9c0ef098-f370-45d5-ab44-40d4977096ff"
      },
      "execution_count": null,
      "outputs": [
        {
          "output_type": "stream",
          "name": "stdout",
          "text": [
            "['Art', 'History', 'Maths', 'Physics', 'DataScience']\n",
            "[['DataAnalyst', 'DataEngineer'], 'Art', 'History', 'Maths', 'Physics', 'DataScience']\n"
          ]
        }
      ]
    },
    {
      "cell_type": "code",
      "source": [
        "## 3. EXTEND Function:\n",
        "## By using Extend function: Only list values will be added to the actual list\n",
        "courses = ['History','Maths','Physics','DataScience']\n",
        "courses_1 = ['DataAnalyst','DataEngineer']\n",
        "courses.extend(courses_1)\n",
        "print(courses)"
      ],
      "metadata": {
        "colab": {
          "base_uri": "https://localhost:8080/"
        },
        "id": "l1xdzvu9aYBm",
        "outputId": "5a38d617-051a-49bf-a1be-67efe2ffe72e"
      },
      "execution_count": null,
      "outputs": [
        {
          "output_type": "stream",
          "name": "stdout",
          "text": [
            "['History', 'Maths', 'Physics', 'DataScience', 'DataAnalyst', 'DataEngineer']\n"
          ]
        }
      ]
    },
    {
      "cell_type": "code",
      "source": [
        "## 4. REMOVE & POP Method:\n",
        "## Remove function will delete the value from the list\n",
        "## Pop function will delete the last element(stack and Queue Operations)\n",
        "courses = ['History','Maths','Physics','DataScience']\n",
        "\n",
        "## Deletes History from the list\n",
        "courses.remove('History')\n",
        "print(courses)\n",
        "\n",
        "## Deletes last element from the list\n",
        "courses.pop()\n",
        "print(courses)\n",
        "\n",
        "## we can print the popped element from the list\n",
        "popped_element = courses.pop()\n",
        "print(popped_element)"
      ],
      "metadata": {
        "colab": {
          "base_uri": "https://localhost:8080/"
        },
        "id": "j5l87QAGaYEO",
        "outputId": "9e96f363-4e70-4ca0-fa50-d9ef12499375"
      },
      "execution_count": null,
      "outputs": [
        {
          "output_type": "stream",
          "name": "stdout",
          "text": [
            "['Maths', 'Physics', 'DataScience']\n",
            "['Maths', 'Physics']\n",
            "Physics\n"
          ]
        }
      ]
    },
    {
      "cell_type": "code",
      "source": [
        "## SORTING THE LIST VALUES(ASCENEDING OR DESCENDING ORDER)\n",
        "## 5. SORT Function\n",
        "## 6. REVERSE Function\n",
        "## 7. SORTED Function\n",
        "\n",
        "## Sorts ASCENDING according to ALPHABETICAL ORDER\n",
        "courses = ['History','Maths','Physics','DataScience']\n",
        "courses.sort()\n",
        "print(courses)\n",
        "\n",
        "## Sorts ascending\n",
        "nums = [3,1,5,2,4]\n",
        "nums.sort()\n",
        "print(nums)"
      ],
      "metadata": {
        "colab": {
          "base_uri": "https://localhost:8080/"
        },
        "id": "nLyAtjucaYHt",
        "outputId": "28d827c9-7954-4b08-d63f-9fe345ee35c3"
      },
      "execution_count": null,
      "outputs": [
        {
          "output_type": "stream",
          "name": "stdout",
          "text": [
            "['DataScience', 'History', 'Maths', 'Physics']\n",
            "[1, 2, 3, 4, 5]\n"
          ]
        }
      ]
    },
    {
      "cell_type": "code",
      "source": [
        "## To sort Descending Order: Couple of ways to day it\n",
        "## a). Sort and reverse\n",
        "\n",
        "## Sorts DESCENDING ORDER according to ALPHABETICAL ORDER\n",
        "courses = ['History','Maths','Physics','DataScience']\n",
        "courses.sort()\n",
        "courses.reverse()\n",
        "print(courses)\n",
        "\n",
        "## Sorts descending\n",
        "nums = [3,1,5,2,4]\n",
        "nums.sort()\n",
        "nums.reverse()\n",
        "print(nums)"
      ],
      "metadata": {
        "colab": {
          "base_uri": "https://localhost:8080/"
        },
        "id": "VxDQeGAK3SMx",
        "outputId": "3616909a-8b47-431c-ccfb-4392383c0879"
      },
      "execution_count": null,
      "outputs": [
        {
          "output_type": "stream",
          "name": "stdout",
          "text": [
            "['Physics', 'Maths', 'History', 'DataScience']\n",
            "[5, 4, 3, 2, 1]\n"
          ]
        }
      ]
    },
    {
      "cell_type": "code",
      "source": [
        "## b) By adding \" reverse = True \" to the sort function\n",
        "courses = ['History','Maths','Physics','DataScience']\n",
        "courses.sort(reverse = True)\n",
        "print(courses)\n",
        "\n",
        "## Sorts descending\n",
        "nums = [3,1,5,2,4]\n",
        "nums.sort(reverse = True)\n",
        "print(nums)"
      ],
      "metadata": {
        "colab": {
          "base_uri": "https://localhost:8080/"
        },
        "id": "qQr07NmL3SsI",
        "outputId": "16ab938c-cc72-42e3-e1d5-40655a1a3e8a"
      },
      "execution_count": null,
      "outputs": [
        {
          "output_type": "stream",
          "name": "stdout",
          "text": [
            "['Physics', 'Maths', 'History', 'DataScience']\n",
            "[5, 4, 3, 2, 1]\n"
          ]
        }
      ]
    },
    {
      "cell_type": "code",
      "source": [
        "nums_1 = [1,3,4,2,5,6]\n",
        "print(min(nums_1))\n",
        "print(max(nums_1))\n",
        "print(sum(nums_1))"
      ],
      "metadata": {
        "id": "gC28XMH_3Svi",
        "colab": {
          "base_uri": "https://localhost:8080/"
        },
        "outputId": "d9a5b0bb-45f8-480b-e5a7-6df54010fa43"
      },
      "execution_count": null,
      "outputs": [
        {
          "output_type": "stream",
          "name": "stdout",
          "text": [
            "1\n",
            "6\n",
            "21\n"
          ]
        }
      ]
    },
    {
      "cell_type": "markdown",
      "source": [
        "***8. INDEX METHOD - to find index of a certain value in the list***"
      ],
      "metadata": {
        "id": "1Tin9cE6GreD"
      }
    },
    {
      "cell_type": "code",
      "source": [
        "## To get index of a value in a LIST\n",
        "courses = ['History','Maths','Physics','DataScience']\n",
        "print(courses.index('Maths'))\n"
      ],
      "metadata": {
        "colab": {
          "base_uri": "https://localhost:8080/"
        },
        "id": "JNYX-VawGLcD",
        "outputId": "45541968-6885-451f-a275-75ede689c100"
      },
      "execution_count": null,
      "outputs": [
        {
          "output_type": "stream",
          "name": "stdout",
          "text": [
            "1\n"
          ]
        }
      ]
    },
    {
      "cell_type": "code",
      "source": [
        "## When we try to find to find out index of does not exists value.It gives us an error\n",
        "courses = ['History','Maths','Physics','DataScience']\n",
        "print(courses.index('Arts'))"
      ],
      "metadata": {
        "colab": {
          "base_uri": "https://localhost:8080/",
          "height": 197
        },
        "id": "_KebRpwIGLfY",
        "outputId": "6ab55acb-e3ff-43f9-f544-33426d57215f"
      },
      "execution_count": null,
      "outputs": [
        {
          "output_type": "error",
          "ename": "ValueError",
          "evalue": "ignored",
          "traceback": [
            "\u001b[0;31m---------------------------------------------------------------------------\u001b[0m",
            "\u001b[0;31mValueError\u001b[0m                                Traceback (most recent call last)",
            "\u001b[0;32m<ipython-input-120-ef95779a2ac7>\u001b[0m in \u001b[0;36m<cell line: 2>\u001b[0;34m()\u001b[0m\n\u001b[1;32m      1\u001b[0m \u001b[0mcourses\u001b[0m \u001b[0;34m=\u001b[0m \u001b[0;34m[\u001b[0m\u001b[0;34m'History'\u001b[0m\u001b[0;34m,\u001b[0m\u001b[0;34m'Maths'\u001b[0m\u001b[0;34m,\u001b[0m\u001b[0;34m'Physics'\u001b[0m\u001b[0;34m,\u001b[0m\u001b[0;34m'DataScience'\u001b[0m\u001b[0;34m]\u001b[0m\u001b[0;34m\u001b[0m\u001b[0;34m\u001b[0m\u001b[0m\n\u001b[0;32m----> 2\u001b[0;31m \u001b[0mprint\u001b[0m\u001b[0;34m(\u001b[0m\u001b[0mcourses\u001b[0m\u001b[0;34m.\u001b[0m\u001b[0mindex\u001b[0m\u001b[0;34m(\u001b[0m\u001b[0;34m'Arts'\u001b[0m\u001b[0;34m)\u001b[0m\u001b[0;34m)\u001b[0m\u001b[0;34m\u001b[0m\u001b[0;34m\u001b[0m\u001b[0m\n\u001b[0m",
            "\u001b[0;31mValueError\u001b[0m: 'Arts' is not in list"
          ]
        }
      ]
    },
    {
      "cell_type": "markdown",
      "source": [
        "***9. IN Operator - To check if a value exists in the List or Not***\n",
        "* It returns True or False"
      ],
      "metadata": {
        "id": "GaDlBG8dICX0"
      }
    },
    {
      "cell_type": "markdown",
      "source": [],
      "metadata": {
        "id": "FEjxsu6HH5LX"
      }
    },
    {
      "cell_type": "code",
      "source": [
        "## To check if a value exists in a LIST or Not\n",
        "courses = ['History','Maths','Physics','DataScience']\n",
        "print('Maths' in courses)\n",
        "\n",
        "print('Arts' in courses)\n"
      ],
      "metadata": {
        "colab": {
          "base_uri": "https://localhost:8080/"
        },
        "id": "qdn54hrKGLij",
        "outputId": "6117496c-29d7-44c2-8c9a-d342c002ba1a"
      },
      "execution_count": null,
      "outputs": [
        {
          "output_type": "stream",
          "name": "stdout",
          "text": [
            "True\n",
            "False\n"
          ]
        }
      ]
    },
    {
      "cell_type": "markdown",
      "source": [
        "***PRINTING all the LIST values BY USING FOR LOOP AND ENUMERATE function***"
      ],
      "metadata": {
        "id": "3tAxSwgDJP0c"
      }
    },
    {
      "cell_type": "code",
      "source": [
        "## Printing all the list values using FOR LOOP\n",
        "## item is not a KEYWORD. It is just a variable to iterarte in a loop\n",
        "courses = ['History','Maths','Physics','DataScience']\n",
        "for item in courses:\n",
        "  print(item)"
      ],
      "metadata": {
        "colab": {
          "base_uri": "https://localhost:8080/"
        },
        "id": "OQuflLevGLoB",
        "outputId": "50e62187-f466-4270-b255-192d01331ca0"
      },
      "execution_count": null,
      "outputs": [
        {
          "output_type": "stream",
          "name": "stdout",
          "text": [
            "History\n",
            "Maths\n",
            "Physics\n",
            "DataScience\n"
          ]
        }
      ]
    },
    {
      "cell_type": "code",
      "source": [
        "## Printing all the list values with indexes using FOR LOOP and ENUMERATED function\n",
        "courses = ['History','Maths','Physics','DataScience']\n",
        "for item in enumerate(courses):\n",
        "  print(item)"
      ],
      "metadata": {
        "colab": {
          "base_uri": "https://localhost:8080/"
        },
        "id": "iNWvzA4ZJn8U",
        "outputId": "9cd14f92-3ae5-4adc-8f6d-f13fbd0537a9"
      },
      "execution_count": null,
      "outputs": [
        {
          "output_type": "stream",
          "name": "stdout",
          "text": [
            "(0, 'History')\n",
            "(1, 'Maths')\n",
            "(2, 'Physics')\n",
            "(3, 'DataScience')\n"
          ]
        }
      ]
    },
    {
      "cell_type": "code",
      "source": [
        "## Printing all the list values with selective indexes using FOR LOOP and ENUMERATED function\n",
        "courses = ['History','Maths','Physics','DataScience']\n",
        "for item in enumerate(courses, start = 1):\n",
        "  print(item)"
      ],
      "metadata": {
        "colab": {
          "base_uri": "https://localhost:8080/"
        },
        "id": "mzS34yzgKIUj",
        "outputId": "95f95631-18ee-49b7-a301-8c1a192943f8"
      },
      "execution_count": null,
      "outputs": [
        {
          "output_type": "stream",
          "name": "stdout",
          "text": [
            "(1, 'History')\n",
            "(2, 'Maths')\n",
            "(3, 'Physics')\n",
            "(4, 'DataScience')\n"
          ]
        }
      ]
    },
    {
      "cell_type": "markdown",
      "source": [
        "***Converting LIST VALUES into STRING Comma Separated Values and  VICE-VERSA***\n",
        " 1. JOIN FUNCTION(List values to String CSV)\n",
        " 2. SPLIT FUNCTION(String csv to List)"
      ],
      "metadata": {
        "id": "VMvNmOUeKk-0"
      }
    },
    {
      "cell_type": "code",
      "source": [
        "## 1. Converting List Values into String CSV\n",
        "\n",
        "courses = ['History','Maths','Physics','DataScience']\n",
        "print(courses)\n",
        "\n",
        "## We've used COMMA( , )' here.  We can use anything\n",
        "courses = ['History','Maths','Physics','DataScience']\n",
        "course_str = ', '.join(courses)\n",
        "print(course_str)\n",
        "\n",
        "## We've used HYPHEN( - ) here. We can use anything\n",
        "courses = ['History','Maths','Physics','DataScience']\n",
        "course_str = '- '.join(courses)\n",
        "print(course_str)\n"
      ],
      "metadata": {
        "colab": {
          "base_uri": "https://localhost:8080/"
        },
        "id": "LtR3vr9dLibr",
        "outputId": "5e973ae9-002a-4648-8eec-531db46491ea"
      },
      "execution_count": null,
      "outputs": [
        {
          "output_type": "stream",
          "name": "stdout",
          "text": [
            "['History', 'Maths', 'Physics', 'DataScience']\n",
            "History, Maths, Physics, DataScience\n",
            "History- Maths- Physics- DataScience\n"
          ]
        }
      ]
    },
    {
      "cell_type": "code",
      "source": [
        "## 1. Converting  String CSV into List Values\n",
        "courses = ['History','Maths','Physics','DataScience']\n",
        "course_str = ', '.join(courses)\n",
        "new_list = course_str.split(', ')\n",
        "print(new_list)\n"
      ],
      "metadata": {
        "colab": {
          "base_uri": "https://localhost:8080/"
        },
        "id": "1hxHdJKGMK3M",
        "outputId": "f9ee52ee-e496-4e56-c09f-d1373efa4d07"
      },
      "execution_count": null,
      "outputs": [
        {
          "output_type": "stream",
          "name": "stdout",
          "text": [
            "['History', 'Maths', 'Physics', 'DataScience']\n"
          ]
        }
      ]
    },
    {
      "cell_type": "markdown",
      "source": [
        "### ***TUPLES - parenthesis( )***\n",
        " * Tuples are similar to LISTS but we can't modify tuples.So, Tuples are called IMMUTABLE and Lists are MUTABLE.\n",
        "\n",
        "* We can't APPEND,REMOVE,INSERT,EXTEND or anything like that in tuple But we can loop through tuples,we can access the values , so on.\n",
        "* To insert values into Tuple Firstly We should Convert a tuple to a list using list() Then Insert an item using insert() .\n"
      ],
      "metadata": {
        "id": "meVNd5Pj_mEG"
      }
    },
    {
      "cell_type": "code",
      "source": [
        "## Creating an Empty tuple\n",
        "empty_tuple = ()\n",
        "## or\n",
        "empty_tuple = tuple()"
      ],
      "metadata": {
        "id": "FrHcvPohUwE6"
      },
      "execution_count": null,
      "outputs": []
    },
    {
      "cell_type": "code",
      "source": [
        "tuple_1 = ('History','Maths','Physics','DataScience')\n",
        "print(tuple_1)"
      ],
      "metadata": {
        "colab": {
          "base_uri": "https://localhost:8080/"
        },
        "id": "8CIR7V3b_kcx",
        "outputId": "9cf3b613-cedb-4fff-f417-fcef7b6097b1"
      },
      "execution_count": 2,
      "outputs": [
        {
          "output_type": "stream",
          "name": "stdout",
          "text": [
            "('History', 'Maths', 'Physics', 'DataScience')\n"
          ]
        }
      ]
    },
    {
      "cell_type": "code",
      "source": [
        "## Accessing individual and Range of values from the Tuples\n",
        "print(tuple_1[0])\n",
        "\n",
        "print(tuple_1[-1])\n",
        "\n",
        "print(tuple_1[:2])\n",
        "\n",
        "print(tuple_1[2:])\n"
      ],
      "metadata": {
        "colab": {
          "base_uri": "https://localhost:8080/"
        },
        "id": "8M0JCU4PJWg-",
        "outputId": "e3bfdad0-1b6e-408b-910f-0c508e637527"
      },
      "execution_count": 24,
      "outputs": [
        {
          "output_type": "stream",
          "name": "stdout",
          "text": [
            "History\n",
            "DataScience\n",
            "('History', 'Maths')\n",
            "('Physics', 'DataScience')\n"
          ]
        }
      ]
    },
    {
      "cell_type": "code",
      "source": [
        "## To find index of a certain Value\n",
        "tuple_1 = ('History','Maths','Physics','DataScience')\n",
        "\n",
        "print(tuple_1.index('Physics'))\n",
        "print(tuple_1.index('History'))\n",
        "print(tuple_1.index('Maths'))\n"
      ],
      "metadata": {
        "colab": {
          "base_uri": "https://localhost:8080/"
        },
        "id": "dWxVdanzJWnj",
        "outputId": "ab3013ed-c3e6-4628-c958-c2896e47c1a0"
      },
      "execution_count": 34,
      "outputs": [
        {
          "output_type": "stream",
          "name": "stdout",
          "text": [
            "2\n",
            "0\n",
            "1\n"
          ]
        }
      ]
    },
    {
      "cell_type": "code",
      "source": [
        "## To find index of a Value That Does not Exists In the TUPLE\n",
        "tuple_1 = ('History','Maths','Physics','DataScience')\n",
        "\n",
        "## ValueError: tuple.index(x): x not in tuple\n",
        "print(tuple_1.index('Arts'))"
      ],
      "metadata": {
        "colab": {
          "base_uri": "https://localhost:8080/",
          "height": 215
        },
        "id": "k6UpyX8bJWq9",
        "outputId": "a2b1bdce-dbce-4a3d-c7bd-366108afdca1"
      },
      "execution_count": 35,
      "outputs": [
        {
          "output_type": "error",
          "ename": "ValueError",
          "evalue": "ignored",
          "traceback": [
            "\u001b[0;31m---------------------------------------------------------------------------\u001b[0m",
            "\u001b[0;31mValueError\u001b[0m                                Traceback (most recent call last)",
            "\u001b[0;32m<ipython-input-35-a1396e06931e>\u001b[0m in \u001b[0;36m<cell line: 4>\u001b[0;34m()\u001b[0m\n\u001b[1;32m      2\u001b[0m \u001b[0mtuple_1\u001b[0m \u001b[0;34m=\u001b[0m \u001b[0;34m(\u001b[0m\u001b[0;34m'History'\u001b[0m\u001b[0;34m,\u001b[0m\u001b[0;34m'Maths'\u001b[0m\u001b[0;34m,\u001b[0m\u001b[0;34m'Physics'\u001b[0m\u001b[0;34m,\u001b[0m\u001b[0;34m'DataScience'\u001b[0m\u001b[0;34m)\u001b[0m\u001b[0;34m\u001b[0m\u001b[0;34m\u001b[0m\u001b[0m\n\u001b[1;32m      3\u001b[0m \u001b[0;34m\u001b[0m\u001b[0m\n\u001b[0;32m----> 4\u001b[0;31m \u001b[0mprint\u001b[0m\u001b[0;34m(\u001b[0m\u001b[0mtuple_1\u001b[0m\u001b[0;34m.\u001b[0m\u001b[0mindex\u001b[0m\u001b[0;34m(\u001b[0m\u001b[0;34m'Arts'\u001b[0m\u001b[0;34m)\u001b[0m\u001b[0;34m)\u001b[0m\u001b[0;34m\u001b[0m\u001b[0;34m\u001b[0m\u001b[0m\n\u001b[0m",
            "\u001b[0;31mValueError\u001b[0m: tuple.index(x): x not in tuple"
          ]
        }
      ]
    },
    {
      "cell_type": "code",
      "source": [
        "## To check If a Value Exists In Tuple or Not\n",
        "## That gives Boolean Values\n",
        "tuple_1 = ('History','Maths','Physics','DataScience')\n",
        "print('Maths' in tuple_1)"
      ],
      "metadata": {
        "colab": {
          "base_uri": "https://localhost:8080/"
        },
        "id": "slKxP_BsML5_",
        "outputId": "cdb4229a-6657-4ce5-9ed9-f796759630d9"
      },
      "execution_count": 36,
      "outputs": [
        {
          "output_type": "stream",
          "name": "stdout",
          "text": [
            "True\n"
          ]
        }
      ]
    },
    {
      "cell_type": "code",
      "source": [
        "## To check If a Value Does Not Exists In Tuple\n",
        "## That gives Boolean Values\n",
        "tuple_1 = ('History','Maths','Physics','DataScience')\n",
        "print('Arts' in tuple_1)"
      ],
      "metadata": {
        "colab": {
          "base_uri": "https://localhost:8080/"
        },
        "id": "U9tywYCCMgOl",
        "outputId": "3b15d116-edf3-4039-b095-8ab149931ab3"
      },
      "execution_count": 37,
      "outputs": [
        {
          "output_type": "stream",
          "name": "stdout",
          "text": [
            "False\n"
          ]
        }
      ]
    },
    {
      "cell_type": "code",
      "source": [
        "## SORTING Tuples ASCENDING or DESCENDING using SORTED FUNCTION\n",
        "\n",
        "tuple_1 = ('History','Maths','Physics','DataScience')\n",
        "tuple_new = sorted(tuple_1)\n",
        "print(tuple_new)\n",
        "\n",
        "## Ascending order\n",
        "nums = (3,1,5,7,2,8,4,6)\n",
        "sorted_nums = sorted(nums)\n",
        "print(sorted_nums)\n",
        "\n",
        "## Descending order\n",
        "nums = (3,1,5,7,2,8,4,6)\n",
        "sorted_nums = sorted(nums)\n",
        "sorted_nums.reverse()\n",
        "print(sorted_nums)\n"
      ],
      "metadata": {
        "colab": {
          "base_uri": "https://localhost:8080/"
        },
        "id": "zrhjOqBnODjY",
        "outputId": "3398cb4a-e454-41ec-8e61-b0a12a95105c"
      },
      "execution_count": 41,
      "outputs": [
        {
          "output_type": "stream",
          "name": "stdout",
          "text": [
            "['DataScience', 'History', 'Maths', 'Physics']\n",
            "[1, 2, 3, 4, 5, 6, 7, 8]\n",
            "[8, 7, 6, 5, 4, 3, 2, 1]\n"
          ]
        }
      ]
    },
    {
      "cell_type": "code",
      "source": [
        "## Finding MIN, MAX, AND SUM of Tuples\n",
        "nums = (3,1,5,7,2,8,4,6)\n",
        "print(min(nums))\n",
        "print(max(nums))\n",
        "print(sum(nums))\n"
      ],
      "metadata": {
        "colab": {
          "base_uri": "https://localhost:8080/"
        },
        "id": "1bZwUDdmO1DP",
        "outputId": "c61b7b26-bb3f-48d9-93d2-035923e6c0bd"
      },
      "execution_count": 40,
      "outputs": [
        {
          "output_type": "stream",
          "name": "stdout",
          "text": [
            "1\n",
            "8\n",
            "36\n"
          ]
        }
      ]
    },
    {
      "cell_type": "code",
      "source": [
        "\n",
        "tuple_1 = ('History','Maths','Physics','DataScience')\n",
        "tuple_2 = tuple_1\n",
        "print(tuple_1)\n",
        "print(tuple_2)"
      ],
      "metadata": {
        "colab": {
          "base_uri": "https://localhost:8080/"
        },
        "id": "MLuIV5mW_kk2",
        "outputId": "cac87c78-668d-429c-a720-e86e9623c051"
      },
      "execution_count": 6,
      "outputs": [
        {
          "output_type": "stream",
          "name": "stdout",
          "text": [
            "('History', 'Maths', 'Physics', 'DataScience')\n",
            "('History', 'Maths', 'Physics', 'DataScience')\n"
          ]
        }
      ]
    },
    {
      "cell_type": "code",
      "source": [
        "tuple_1 = ('History','Maths','Physics','DataScience')\n",
        "tuple_2 = tuple_1\n",
        "print(tuple_1)\n",
        "print(tuple_2)\n",
        "\n",
        "## TypeError: 'tuple' object does not support item assignment\n",
        "tuple_1[0] = 'Arts'\n",
        "\n",
        "print(tuple_1)\n",
        "print(tuple_2)"
      ],
      "metadata": {
        "colab": {
          "base_uri": "https://localhost:8080/",
          "height": 287
        },
        "id": "ssmTrans_koK",
        "outputId": "6b341e34-e9a7-463f-c6c7-5a05cd8cc654"
      },
      "execution_count": 9,
      "outputs": [
        {
          "output_type": "stream",
          "name": "stdout",
          "text": [
            "('History', 'Maths', 'Physics', 'DataScience')\n",
            "('History', 'Maths', 'Physics', 'DataScience')\n"
          ]
        },
        {
          "output_type": "error",
          "ename": "TypeError",
          "evalue": "ignored",
          "traceback": [
            "\u001b[0;31m---------------------------------------------------------------------------\u001b[0m",
            "\u001b[0;31mTypeError\u001b[0m                                 Traceback (most recent call last)",
            "\u001b[0;32m<ipython-input-9-336148a977df>\u001b[0m in \u001b[0;36m<cell line: 7>\u001b[0;34m()\u001b[0m\n\u001b[1;32m      5\u001b[0m \u001b[0;34m\u001b[0m\u001b[0m\n\u001b[1;32m      6\u001b[0m \u001b[0;31m## TypeError: 'tuple' object does not support item assignment\u001b[0m\u001b[0;34m\u001b[0m\u001b[0;34m\u001b[0m\u001b[0m\n\u001b[0;32m----> 7\u001b[0;31m \u001b[0mtuple_1\u001b[0m\u001b[0;34m[\u001b[0m\u001b[0;36m0\u001b[0m\u001b[0;34m]\u001b[0m \u001b[0;34m=\u001b[0m \u001b[0;34m'Arts'\u001b[0m\u001b[0;34m\u001b[0m\u001b[0;34m\u001b[0m\u001b[0m\n\u001b[0m\u001b[1;32m      8\u001b[0m \u001b[0;34m\u001b[0m\u001b[0m\n\u001b[1;32m      9\u001b[0m \u001b[0mprint\u001b[0m\u001b[0;34m(\u001b[0m\u001b[0mtuple_1\u001b[0m\u001b[0;34m)\u001b[0m\u001b[0;34m\u001b[0m\u001b[0;34m\u001b[0m\u001b[0m\n",
            "\u001b[0;31mTypeError\u001b[0m: 'tuple' object does not support item assignment"
          ]
        }
      ]
    },
    {
      "cell_type": "code",
      "source": [
        "## Using Type and Except Block::\n",
        "tuple_1 = ('History','Maths','Physics','DataScience')\n",
        "tuple_2 = tuple_1\n",
        "print(tuple_1)\n",
        "print(tuple_2)\n",
        "\n",
        "\n",
        "try:\n",
        "    tuple_1[0] = \"Immutable\"\n",
        "    print(tuple_1)\n",
        "    print(tuple_2)\n",
        "except TypeError:\n",
        "    print( \"Tuples cannot be modified because they are immutable\" )\n"
      ],
      "metadata": {
        "colab": {
          "base_uri": "https://localhost:8080/"
        },
        "id": "jW__rgK7IMwT",
        "outputId": "59efa1aa-9469-410b-e6e4-d49bcdb2567f"
      },
      "execution_count": 20,
      "outputs": [
        {
          "output_type": "stream",
          "name": "stdout",
          "text": [
            "('History', 'Maths', 'Physics', 'DataScience')\n",
            "('History', 'Maths', 'Physics', 'DataScience')\n",
            "Tuples cannot be modified because they are immutable\n"
          ]
        }
      ]
    },
    {
      "cell_type": "markdown",
      "source": [
        "***Let's compare same piece of code with LISTS***"
      ],
      "metadata": {
        "id": "7dg05Mg3CnN5"
      }
    },
    {
      "cell_type": "code",
      "source": [
        "### LISTS ARE MUTABLE(WE CAN MODIFY THE VALUES)\n",
        "list_1 = ['History','Maths','Physics','DataScience']\n",
        "list_2 = list_1\n",
        "print(list_1)\n",
        "print(list_2)\n",
        "\n",
        "## WE CAN MODIFY THE VALUE IN ASSIGMENT\n",
        "list_1[0] = 'Arts'\n",
        "\n",
        "print(list_1)\n",
        "print(list_2)"
      ],
      "metadata": {
        "colab": {
          "base_uri": "https://localhost:8080/"
        },
        "id": "Oywl3fdY_ktw",
        "outputId": "e4856f60-1853-4171-cf13-20b9880ec14d"
      },
      "execution_count": 8,
      "outputs": [
        {
          "output_type": "stream",
          "name": "stdout",
          "text": [
            "['History', 'Maths', 'Physics', 'DataScience']\n",
            "['History', 'Maths', 'Physics', 'DataScience']\n",
            "['Arts', 'Maths', 'Physics', 'DataScience']\n",
            "['Arts', 'Maths', 'Physics', 'DataScience']\n"
          ]
        }
      ]
    },
    {
      "cell_type": "markdown",
      "source": [
        "### Tuple Operations:"
      ],
      "metadata": {
        "id": "UXf2as0PDrQa"
      }
    },
    {
      "cell_type": "code",
      "source": [
        "## Using for Loop accessing every value in TUPLE\n",
        "tuple_1 = ('History','Maths','Physics','DataScience')\n",
        "for item in tuple_1:\n",
        "  print(item)"
      ],
      "metadata": {
        "colab": {
          "base_uri": "https://localhost:8080/"
        },
        "id": "jiuDw3so_kxy",
        "outputId": "c3119812-b540-42ed-8734-f6a71ae54348"
      },
      "execution_count": 10,
      "outputs": [
        {
          "output_type": "stream",
          "name": "stdout",
          "text": [
            "History\n",
            "Maths\n",
            "Physics\n",
            "DataScience\n"
          ]
        }
      ]
    },
    {
      "cell_type": "code",
      "source": [
        "## Using for Loop with ENUMERATE FUNCTION\n",
        "## How do we access every value  in TUPLE along with their indexes\n",
        "tuple_1 = ('History','Maths','Physics','DataScience')\n",
        "for item in enumerate(tuple_1):\n",
        "  print(item)"
      ],
      "metadata": {
        "colab": {
          "base_uri": "https://localhost:8080/"
        },
        "id": "bq2VICdk_k0-",
        "outputId": "7b26781b-2886-43a4-eba3-02c3b8d4fb68"
      },
      "execution_count": 13,
      "outputs": [
        {
          "output_type": "stream",
          "name": "stdout",
          "text": [
            "(0, 'History')\n",
            "(1, 'Maths')\n",
            "(2, 'Physics')\n",
            "(3, 'DataScience')\n"
          ]
        }
      ]
    },
    {
      "cell_type": "code",
      "source": [
        "## Using for Loop with ENUMERATE FUNCTION\n",
        "## How do we access every value  in TUPLE along with their indexes but\n",
        "## i wanna specify the my own index value\n",
        "tuple_1 = ('History','Maths','Physics','DataScience')\n",
        "for item in enumerate(tuple_1, start = 1):\n",
        "  print(item)"
      ],
      "metadata": {
        "colab": {
          "base_uri": "https://localhost:8080/"
        },
        "id": "g5C_KtxT_k4R",
        "outputId": "45081bd7-7f36-4001-d45e-d835392d54a6"
      },
      "execution_count": 14,
      "outputs": [
        {
          "output_type": "stream",
          "name": "stdout",
          "text": [
            "(1, 'History')\n",
            "(2, 'Maths')\n",
            "(3, 'Physics')\n",
            "(4, 'DataScience')\n"
          ]
        }
      ]
    },
    {
      "cell_type": "code",
      "source": [
        "## How do we turn this TUPLE into STRING CSV\n",
        "## With the help of JOIN\n",
        "\n",
        "tuple_1 = ('History','Maths','Physics','DataScience')\n",
        "tuple_str = ', '.join(tuple_1)\n",
        "print(tuple_str)"
      ],
      "metadata": {
        "colab": {
          "base_uri": "https://localhost:8080/"
        },
        "id": "hadwZGnv_k8Q",
        "outputId": "cf81b87a-48bf-4ba3-a836-cea6ef281353"
      },
      "execution_count": 15,
      "outputs": [
        {
          "output_type": "stream",
          "name": "stdout",
          "text": [
            "History, Maths, Physics, DataScience\n"
          ]
        }
      ]
    },
    {
      "cell_type": "code",
      "source": [
        "## How do we turn STRING CSV back to TUPLE\n",
        "## With the help of SPLIT\n",
        "\n",
        "tuple_1 = ('History','Maths','Physics','DataScience')\n",
        "print(tuple_1)\n",
        "\n",
        "tuple_str = ', '.join(tuple_1)\n",
        "print(tuple_str)\n",
        "\n",
        "new_tuple = tuple_str.split(', ') ## Converting Into LIST\n",
        "print(new_tuple)"
      ],
      "metadata": {
        "colab": {
          "base_uri": "https://localhost:8080/"
        },
        "id": "Ct3RJSSP_lAV",
        "outputId": "889bea0e-2fb5-4174-9f85-1a98f336ab92"
      },
      "execution_count": 22,
      "outputs": [
        {
          "output_type": "stream",
          "name": "stdout",
          "text": [
            "('History', 'Maths', 'Physics', 'DataScience')\n",
            "History, Maths, Physics, DataScience\n",
            "['History', 'Maths', 'Physics', 'DataScience']\n"
          ]
        }
      ]
    },
    {
      "cell_type": "markdown",
      "source": [
        "### ***SET - CURLY BRACES or Flower Brackets { }***\n",
        "* Set values are UNORDERED(they do not care about order) and No Duplicatives(it helps us to remove duplicates)\n",
        "* Orders can change with each execution"
      ],
      "metadata": {
        "id": "C8e18jTePtTq"
      }
    },
    {
      "cell_type": "code",
      "source": [
        "## Creating an Empty set\n",
        "empty_set = {}\n",
        "## or\n",
        "empty_set = set()"
      ],
      "metadata": {
        "id": "wluUP1ouU1eP"
      },
      "execution_count": null,
      "outputs": []
    },
    {
      "cell_type": "code",
      "source": [
        "set_1 = {'History','Maths','Physics','DataScience'}\n",
        "print(set_1)"
      ],
      "metadata": {
        "colab": {
          "base_uri": "https://localhost:8080/"
        },
        "id": "CR_UFqmb_lHE",
        "outputId": "92886a3b-21a4-47c3-c621-96c56ad39a80"
      },
      "execution_count": 42,
      "outputs": [
        {
          "output_type": "stream",
          "name": "stdout",
          "text": [
            "{'Physics', 'History', 'DataScience', 'Maths'}\n"
          ]
        }
      ]
    },
    {
      "cell_type": "code",
      "source": [
        "## Set removes duplicate values - It just printed sigle MATHS only\n",
        "\n",
        "set_2 = {'History','Maths','Physics','DataScience','Maths'}\n",
        "print(set_2)"
      ],
      "metadata": {
        "colab": {
          "base_uri": "https://localhost:8080/"
        },
        "id": "Ac13kqaKQ4Vy",
        "outputId": "b060cb8c-610d-4869-d6cf-42b7a7a07253"
      },
      "execution_count": 60,
      "outputs": [
        {
          "output_type": "stream",
          "name": "stdout",
          "text": [
            "{'Physics', 'History', 'DataScience', 'Maths'}\n"
          ]
        }
      ]
    },
    {
      "cell_type": "code",
      "source": [
        "## To test whether a value is part of a SET or NOT. This is called \" MEMBERSHIP TEST\"\n",
        "## We use IN Operator\n",
        "## We could also do that by LISTS & TUPLES but SETS are OPTIMIZED FOR THIS.\n",
        "\n",
        "set_1 = {'History','Maths','Physics','DataScience'}\n",
        "print('Maths' in set_1)"
      ],
      "metadata": {
        "colab": {
          "base_uri": "https://localhost:8080/"
        },
        "id": "HDwRl3JvRaYH",
        "outputId": "590d6b07-2d4e-4386-89aa-9b059bbd371b"
      },
      "execution_count": 61,
      "outputs": [
        {
          "output_type": "stream",
          "name": "stdout",
          "text": [
            "True\n"
          ]
        }
      ]
    },
    {
      "cell_type": "code",
      "source": [
        "##SETS EITHER SHARE OR DON NOT SHARE WITH OTHER SETS:\n",
        "## 1. INTERSECTION 2. DIFFERENCE 3. UNION\n",
        "\n",
        "mechanical_courses = {'Physics','Maths','statistics','FEA'}\n",
        "it_courses = {'Ai','Maths','Physics','DataScience'}\n",
        "\n",
        "## 1. INTERSECTION\n",
        "print(mechanical_courses.intersection(it_courses))\n",
        "\n",
        "## 2. DIFFERENCE\n",
        "print(mechanical_courses.difference(it_courses))\n",
        "\n",
        "## 3. UNION\n",
        "print(mechanical_courses.union(it_courses))"
      ],
      "metadata": {
        "colab": {
          "base_uri": "https://localhost:8080/"
        },
        "id": "QuhMciSdRyMC",
        "outputId": "0fbcf51d-7726-4aea-a67a-1471ffd2f06d"
      },
      "execution_count": 72,
      "outputs": [
        {
          "output_type": "stream",
          "name": "stdout",
          "text": [
            "{'Maths', 'Physics'}\n",
            "{'FEA', 'statistics'}\n",
            "{'FEA', 'Physics', 'statistics', 'Maths', 'Ai', 'DataScience'}\n"
          ]
        }
      ]
    },
    {
      "cell_type": "markdown",
      "source": [
        "### ***CREATING AN EMPTY LIST, EMPTY TUPLES,EMPTY SETS***"
      ],
      "metadata": {
        "id": "rgjFXz_yTb_s"
      }
    },
    {
      "cell_type": "code",
      "source": [
        "## Empty List\n",
        "empty_list = [ ]\n",
        "## or\n",
        "empty_list = list()\n",
        "\n",
        "## Empty tuple\n",
        "empty_tuple = ()\n",
        "## or\n",
        "empty_tuple = tuple()\n",
        "\n",
        "## Empty set\n",
        "empty_set = {} ## This is not right it is a dictionary\n",
        "## or\n",
        "empty_set = set()"
      ],
      "metadata": {
        "id": "PWI42q2XRySN"
      },
      "execution_count": 76,
      "outputs": []
    },
    {
      "cell_type": "markdown",
      "source": [
        "### ***DICTIONARIES - Working with KEY-VALUE pairs {'name':'Kranthi'}***\n",
        "\n",
        "* Keys are UNIQUE IDENTIFIERS(where we can find our data)\n",
        "* Value is the data point."
      ],
      "metadata": {
        "id": "zW0or6wgbSQB"
      }
    },
    {
      "cell_type": "code",
      "source": [
        "## Dicitionaries declaration and Initialization\n",
        "## Keys can be any data type\n",
        "student = { 'name' : 'Kranthi Kumar','age' : 26,'courses' : ['Data Science','Data Analyst','Data Engineering']}\n",
        "student_1 = {1 :'Sreemanth Yadav', 2 : 'Srrenidhi Yadav', 3 : 'Soniya'}\n",
        "\n",
        "print(student)\n",
        "print(student_1)"
      ],
      "metadata": {
        "colab": {
          "base_uri": "https://localhost:8080/"
        },
        "id": "1HzeTAFHRyVd",
        "outputId": "cd1110fb-a599-4454-baaa-7d99f1f3a37d"
      },
      "execution_count": 77,
      "outputs": [
        {
          "output_type": "stream",
          "name": "stdout",
          "text": [
            "{'name': 'Kranthi Kumar', 'age': 26, 'courses': ['Data Science', 'Data Analyst', 'Data Engineering']}\n",
            "{1: 'Sreemanth Yadav', 2: 'Srrenidhi Yadav', 3: 'Soniya'}\n"
          ]
        }
      ]
    },
    {
      "cell_type": "code",
      "source": [
        "## To access/get values of One Key\n",
        "print(student['name'])\n",
        "print(student['age'])\n",
        "print(student['courses'])\n",
        "\n",
        "print(student_1[1])\n",
        "print(student_1[2])\n",
        "print(student_1[3])"
      ],
      "metadata": {
        "colab": {
          "base_uri": "https://localhost:8080/"
        },
        "id": "XShmP25jdsc2",
        "outputId": "2150300a-80f3-4c95-80ae-2fff9f158573"
      },
      "execution_count": 81,
      "outputs": [
        {
          "output_type": "stream",
          "name": "stdout",
          "text": [
            "Kranthi Kumar\n",
            "26\n",
            "['Data Science', 'Data Analyst', 'Data Engineering']\n",
            "Sreemanth Yadav\n",
            "Srrenidhi Yadav\n",
            "Soniya\n"
          ]
        }
      ]
    },
    {
      "cell_type": "code",
      "source": [
        "## To access/get values of One Key That Does Not Exist\n",
        "print(student['phone'])"
      ],
      "metadata": {
        "colab": {
          "base_uri": "https://localhost:8080/",
          "height": 197
        },
        "id": "pEFU8mI5dslO",
        "outputId": "4f234990-dc18-48f9-a70c-2a39f52975ab"
      },
      "execution_count": 82,
      "outputs": [
        {
          "output_type": "error",
          "ename": "KeyError",
          "evalue": "ignored",
          "traceback": [
            "\u001b[0;31m---------------------------------------------------------------------------\u001b[0m",
            "\u001b[0;31mKeyError\u001b[0m                                  Traceback (most recent call last)",
            "\u001b[0;32m<ipython-input-82-05d9c5d9267b>\u001b[0m in \u001b[0;36m<cell line: 2>\u001b[0;34m()\u001b[0m\n\u001b[1;32m      1\u001b[0m \u001b[0;31m## To access/get values of One Key That Does Not Exist\u001b[0m\u001b[0;34m\u001b[0m\u001b[0;34m\u001b[0m\u001b[0m\n\u001b[0;32m----> 2\u001b[0;31m \u001b[0mprint\u001b[0m\u001b[0;34m(\u001b[0m\u001b[0mstudent\u001b[0m\u001b[0;34m[\u001b[0m\u001b[0;34m'phone'\u001b[0m\u001b[0;34m]\u001b[0m\u001b[0;34m)\u001b[0m\u001b[0;34m\u001b[0m\u001b[0;34m\u001b[0m\u001b[0m\n\u001b[0m",
            "\u001b[0;31mKeyError\u001b[0m: 'phone'"
          ]
        }
      ]
    },
    {
      "cell_type": "code",
      "source": [
        "## Thowing an error when a key does not exist might not always what we want\n",
        "## sometimes we may want to return \"NONE\" or \"Default-Value\"\n",
        "## To do this we use DICITIONARIES - \"get method \"\n",
        "\n",
        "print(student.get('phone'))\n",
        "## it just gave us None instead of KeyError\n",
        "\n",
        "print(student.get('phone','Not Found'))\n",
        "## it just gave us what we wanna print (Not Found) instead of KeyError\n"
      ],
      "metadata": {
        "colab": {
          "base_uri": "https://localhost:8080/"
        },
        "id": "leoR5-LMdsoV",
        "outputId": "1c52ca17-b166-44ac-cc14-1f8cda231608"
      },
      "execution_count": 84,
      "outputs": [
        {
          "output_type": "stream",
          "name": "stdout",
          "text": [
            "None\n",
            "Not Found\n"
          ]
        }
      ]
    },
    {
      "cell_type": "code",
      "source": [
        "## Adding new entry into Our Dictionary\n",
        "\n",
        "student = { 'name' : 'Kranthi Kumar','age' : 26,'courses' : ['Data Science','Data Analyst','Data Engineering']}\n",
        "print(student)\n",
        "\n",
        "student['phone'] = '+44 - 7575087597'\n",
        "print(student)\n",
        "\n",
        "## Updating the value into our Dictionary\n",
        "student['name'] = 'Sreemanth Yadav'\n",
        "print(student)\n",
        "##or By using UPDATE METHOD\n",
        "student.update({'name':'Sreenidhi','age':3,'courses':['Numbers','rhymes','Poems'],'Phone':'+44-7888681783'})\n",
        "print(student)\n"
      ],
      "metadata": {
        "colab": {
          "base_uri": "https://localhost:8080/"
        },
        "id": "xyIoi0EHdsru",
        "outputId": "ff992b64-583e-4631-afc0-b38e42e719e7"
      },
      "execution_count": 89,
      "outputs": [
        {
          "output_type": "stream",
          "name": "stdout",
          "text": [
            "{'name': 'Kranthi Kumar', 'age': 26, 'courses': ['Data Science', 'Data Analyst', 'Data Engineering']}\n",
            "{'name': 'Kranthi Kumar', 'age': 26, 'courses': ['Data Science', 'Data Analyst', 'Data Engineering'], 'phone': '+44 - 7575087597'}\n",
            "{'name': 'Sreemanth Yadav', 'age': 26, 'courses': ['Data Science', 'Data Analyst', 'Data Engineering'], 'phone': '+44 - 7575087597'}\n",
            "{'name': 'Sreenidhi', 'age': 3, 'courses': ['Numbers', 'rhymes', 'Poems'], 'phone': '+44 - 7575087597', 'Phone': '+44-7888681783'}\n"
          ]
        }
      ]
    },
    {
      "cell_type": "code",
      "source": [
        "## DELETE A SPECIFIC KEY AND VALUE- we use DEL keyword\n",
        "## 1. Del method 2. Pop method\n",
        "del student['name']\n",
        "print(student)\n",
        "\n",
        "popped_courses = student.pop('courses')\n",
        "print(student)\n",
        "print(popped_courses)\n"
      ],
      "metadata": {
        "colab": {
          "base_uri": "https://localhost:8080/"
        },
        "id": "7iKHe8wBkts_",
        "outputId": "c4778906-d48d-4782-921c-81348f5329a1"
      },
      "execution_count": 94,
      "outputs": [
        {
          "output_type": "stream",
          "name": "stdout",
          "text": [
            "{'courses': ['Numbers', 'rhymes', 'Poems'], 'Phone': '+44-7888681783'}\n",
            "{'Phone': '+44-7888681783'}\n",
            "['Numbers', 'rhymes', 'Poems']\n"
          ]
        }
      ]
    },
    {
      "cell_type": "code",
      "source": [
        "## How can we laccess/get all the keys and Its values of our Dictionary\n",
        "student = { 'name' : 'Kranthi Kumar','age' : 26,'courses' : ['Data Science','Data Analyst','Data Engineering']}\n",
        "print(len(student))\n",
        "\n",
        "## To get all the keys\n",
        "print(student.keys())\n",
        "\n",
        "## to get all the values\n",
        "print(student.values())\n",
        "\n",
        "## To get all the key-value pairs\n",
        "print(student.items())"
      ],
      "metadata": {
        "colab": {
          "base_uri": "https://localhost:8080/"
        },
        "id": "lSljjLZbl_U3",
        "outputId": "b6d1ae8c-7b55-46df-8f34-70ae32499af8"
      },
      "execution_count": 99,
      "outputs": [
        {
          "output_type": "stream",
          "name": "stdout",
          "text": [
            "3\n",
            "dict_keys(['name', 'age', 'courses'])\n",
            "dict_values(['Kranthi Kumar', 26, ['Data Science', 'Data Analyst', 'Data Engineering']])\n",
            "dict_items([('name', 'Kranthi Kumar'), ('age', 26), ('courses', ['Data Science', 'Data Analyst', 'Data Engineering'])])\n"
          ]
        }
      ]
    },
    {
      "cell_type": "code",
      "source": [
        "##How can we get all the keys by using for loop\n",
        "student = { 'name' : 'Kranthi Kumar','age' : 26,'courses' : ['Data Science','Data Analyst','Data Engineering']}\n",
        "for key in student:\n",
        "  print(key)"
      ],
      "metadata": {
        "colab": {
          "base_uri": "https://localhost:8080/"
        },
        "id": "9W-mcS_nm1vk",
        "outputId": "67502afb-e165-4e8e-f498-aa78d138d3db"
      },
      "execution_count": 100,
      "outputs": [
        {
          "output_type": "stream",
          "name": "stdout",
          "text": [
            "name\n",
            "age\n",
            "courses\n"
          ]
        }
      ]
    },
    {
      "cell_type": "code",
      "source": [
        "##How can we get all the keys and values by using for loop\n",
        "student = { 'name' : 'Kranthi Kumar','age' : 26,'courses' : ['Data Science','Data Analyst','Data Engineering']}\n",
        "for key,value in student.items():\n",
        "  print(key,value)"
      ],
      "metadata": {
        "colab": {
          "base_uri": "https://localhost:8080/"
        },
        "id": "wc4Q9oK5l_cl",
        "outputId": "39357791-3595-4d36-94c9-585f8a475ac4"
      },
      "execution_count": 102,
      "outputs": [
        {
          "output_type": "stream",
          "name": "stdout",
          "text": [
            "name Kranthi Kumar\n",
            "age 26\n",
            "courses ['Data Science', 'Data Analyst', 'Data Engineering']\n"
          ]
        }
      ]
    }
  ]
}